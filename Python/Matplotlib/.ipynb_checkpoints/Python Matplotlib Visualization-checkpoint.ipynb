{
 "cells": [
  {
   "cell_type": "markdown",
   "id": "e9df8b4b",
   "metadata": {},
   "source": [
    "#### Installation"
   ]
  },
  {
   "cell_type": "code",
   "execution_count": null,
   "id": "c665018b",
   "metadata": {},
   "outputs": [],
   "source": [
    "pip install matplotlib"
   ]
  },
  {
   "cell_type": "markdown",
   "id": "2b10882c",
   "metadata": {},
   "source": [
    "### Single Line Plots"
   ]
  },
  {
   "cell_type": "code",
   "execution_count": null,
   "id": "5cee4382",
   "metadata": {},
   "outputs": [],
   "source": [
    "%matplotlib inline\n",
    "import matplotlib.pyplot as plt\n",
    "import numpy as np"
   ]
  },
  {
   "cell_type": "code",
   "execution_count": null,
   "id": "d8e2a726",
   "metadata": {},
   "outputs": [],
   "source": [
    "# data\n",
    "x = np.arange(25)\n",
    "y = x**3 + 1"
   ]
  },
  {
   "cell_type": "code",
   "execution_count": null,
   "id": "f90d3cad",
   "metadata": {},
   "outputs": [],
   "source": [
    "plt.plot(x, [(y**3 + 1) for y in x] )\n",
    "plt.show()"
   ]
  },
  {
   "cell_type": "markdown",
   "id": "07ba9f50",
   "metadata": {},
   "source": [
    "### Multiline Plots"
   ]
  },
  {
   "cell_type": "code",
   "execution_count": null,
   "id": "bbfe575d",
   "metadata": {},
   "outputs": [],
   "source": [
    "%matplotlib inline\n",
    "import matplotlib.pyplot as plt\n",
    "import numpy as np"
   ]
  },
  {
   "cell_type": "code",
   "execution_count": null,
   "id": "0aebfc4d",
   "metadata": {},
   "outputs": [],
   "source": [
    "# data\n",
    "data = np.random.randn(2, 10)\n",
    "print(data)\n",
    "plt.plot([data[0], data[1]])\n",
    "plt.show()"
   ]
  },
  {
   "cell_type": "markdown",
   "id": "ec2a37f1",
   "metadata": {},
   "source": [
    "#### Grid Axes Labels"
   ]
  },
  {
   "cell_type": "code",
   "execution_count": 42,
   "id": "5c9cc150",
   "metadata": {},
   "outputs": [],
   "source": [
    "%matplotlib inline\n",
    "import matplotlib.pyplot as plt\n",
    "import numpy as np"
   ]
  },
  {
   "cell_type": "code",
   "execution_count": 43,
   "id": "81378e68",
   "metadata": {},
   "outputs": [],
   "source": [
    "# Data\n",
    "x = np.arange(25)\n",
    "y = x**3 + 1"
   ]
  },
  {
   "cell_type": "code",
   "execution_count": 46,
   "id": "c7491b97",
   "metadata": {},
   "outputs": [
    {
     "data": {
      "image/png": "[encoded data removed]",
      "text/plain": [
       "<Figure size 432x288 with 1 Axes>"
      ]
     },
     "metadata": {
      "needs_background": "light"
     },
     "output_type": "display_data"
    }
   ],
   "source": [
    "# Output\n",
    "plt.plot(x, y)\n",
    "plt.grid(True)\n",
    "plt.savefig('test.png')\n",
    "plt.show()"
   ]
  },
  {
   "cell_type": "code",
   "execution_count": null,
   "id": "24e27447",
   "metadata": {},
   "outputs": [],
   "source": []
  },
  {
   "cell_type": "code",
   "execution_count": null,
   "id": "67e7fc2d",
   "metadata": {},
   "outputs": [],
   "source": []
  },
  {
   "cell_type": "code",
   "execution_count": null,
   "id": "219f66e9",
   "metadata": {},
   "outputs": [],
   "source": []
  }
 ],
 "metadata": {
  "kernelspec": {
   "display_name": "Python 3 (ipykernel)",
   "language": "python",
   "name": "python3"
  },
  "language_info": {
   "codemirror_mode": {
    "name": "ipython",
    "version": 3
   },
   "file_extension": ".py",
   "mimetype": "text/x-python",
   "name": "python",
   "nbconvert_exporter": "python",
   "pygments_lexer": "ipython3",
   "version": "3.10.5"
  }
 },
 "nbformat": 4,
 "nbformat_minor": 5
}
