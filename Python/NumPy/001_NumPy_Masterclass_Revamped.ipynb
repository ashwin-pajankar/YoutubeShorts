{
 "cells": [
  {
   "cell_type": "markdown",
   "id": "14268926",
   "metadata": {},
   "source": [
    "# Install NumPy"
   ]
  },
  {
   "cell_type": "code",
   "execution_count": 5,
   "id": "f68f28c2",
   "metadata": {},
   "outputs": [
    {
     "name": "stdout",
     "output_type": "stream",
     "text": [
      "Defaulting to user installation because normal site-packages is not writeable\n",
      "Requirement already satisfied: numpy in c:\\program files\\python310\\lib\\site-packages (1.23.1)\n",
      "Note: you may need to restart the kernel to use updated packages.\n"
     ]
    }
   ],
   "source": [
    "pip install numpy"
   ]
  },
  {
   "cell_type": "code",
   "execution_count": null,
   "id": "269c60fe",
   "metadata": {},
   "outputs": [],
   "source": [
    "!pip install numpy"
   ]
  },
  {
   "cell_type": "code",
   "execution_count": null,
   "id": "9b26f329",
   "metadata": {},
   "outputs": [],
   "source": []
  },
  {
   "cell_type": "code",
   "execution_count": null,
   "id": "e38c7b53",
   "metadata": {},
   "outputs": [],
   "source": [
    "!dir"
   ]
  },
  {
   "cell_type": "markdown",
   "id": "93e2de95",
   "metadata": {},
   "source": [
    "# Getting Started"
   ]
  },
  {
   "cell_type": "code",
   "execution_count": null,
   "id": "055d5bed",
   "metadata": {},
   "outputs": [],
   "source": [
    "import numpy as np"
   ]
  },
  {
   "cell_type": "code",
   "execution_count": null,
   "id": "5c89d729",
   "metadata": {},
   "outputs": [],
   "source": [
    "x = np.array([1, 2, 3])"
   ]
  },
  {
   "cell_type": "code",
   "execution_count": null,
   "id": "d0e9d1e5",
   "metadata": {},
   "outputs": [],
   "source": [
    "x"
   ]
  },
  {
   "cell_type": "code",
   "execution_count": null,
   "id": "72e15fca",
   "metadata": {},
   "outputs": [],
   "source": [
    "type(x)"
   ]
  },
  {
   "cell_type": "code",
   "execution_count": null,
   "id": "8ea92f80",
   "metadata": {},
   "outputs": [],
   "source": [
    "list1 = [1, 2, 3]\n",
    "x = np.array(list1)\n",
    "print(x)\n",
    "print(type(x))"
   ]
  },
  {
   "cell_type": "code",
   "execution_count": null,
   "id": "717e33c5",
   "metadata": {},
   "outputs": [],
   "source": [
    "# https://numpy.org/doc/stable/user/basics.types.html\n",
    "# https://numpy.org/doc/stable/reference/arrays.dtypes.html#arrays-dtypes"
   ]
  },
  {
   "cell_type": "code",
   "execution_count": null,
   "id": "8021effe",
   "metadata": {},
   "outputs": [],
   "source": [
    "x = np.array(list1, dtype = np.int16)"
   ]
  },
  {
   "cell_type": "code",
   "execution_count": null,
   "id": "ee3b6515",
   "metadata": {},
   "outputs": [],
   "source": [
    "x = np.array(list1, np.int8)"
   ]
  },
  {
   "cell_type": "markdown",
   "id": "d5d21248",
   "metadata": {},
   "source": [
    "# Indexing"
   ]
  },
  {
   "cell_type": "code",
   "execution_count": null,
   "id": "4992602a",
   "metadata": {},
   "outputs": [],
   "source": [
    "x[0]"
   ]
  },
  {
   "cell_type": "code",
   "execution_count": null,
   "id": "814f55ee",
   "metadata": {},
   "outputs": [],
   "source": [
    "x[1]"
   ]
  },
  {
   "cell_type": "code",
   "execution_count": null,
   "id": "3871bb3c",
   "metadata": {},
   "outputs": [],
   "source": [
    "x[2]"
   ]
  },
  {
   "cell_type": "code",
   "execution_count": null,
   "id": "1e65262a",
   "metadata": {},
   "outputs": [],
   "source": [
    "x[3]"
   ]
  },
  {
   "cell_type": "code",
   "execution_count": null,
   "id": "79125616",
   "metadata": {},
   "outputs": [],
   "source": [
    "x[6]"
   ]
  },
  {
   "cell_type": "code",
   "execution_count": null,
   "id": "74b1fd5d",
   "metadata": {},
   "outputs": [],
   "source": [
    "x[-1]"
   ]
  },
  {
   "cell_type": "code",
   "execution_count": null,
   "id": "3266eea5",
   "metadata": {},
   "outputs": [],
   "source": [
    "x[-2]"
   ]
  },
  {
   "cell_type": "code",
   "execution_count": null,
   "id": "2fcfd521",
   "metadata": {},
   "outputs": [],
   "source": [
    "x[-3]"
   ]
  },
  {
   "cell_type": "code",
   "execution_count": null,
   "id": "9280d006",
   "metadata": {},
   "outputs": [],
   "source": [
    "x[-4]"
   ]
  },
  {
   "cell_type": "markdown",
   "id": "8c5ce0a0",
   "metadata": {},
   "source": [
    "# Multidimensional Ndarrays"
   ]
  },
  {
   "cell_type": "code",
   "execution_count": null,
   "id": "dfc063b6",
   "metadata": {},
   "outputs": [],
   "source": [
    "x = np.array([[1, 2, 3], [4, 5, 6]], np.uint8)\n",
    "print(x)"
   ]
  },
  {
   "cell_type": "code",
   "execution_count": null,
   "id": "1698424e",
   "metadata": {},
   "outputs": [],
   "source": [
    "x[0, 0]"
   ]
  },
  {
   "cell_type": "code",
   "execution_count": null,
   "id": "a70795ce",
   "metadata": {},
   "outputs": [],
   "source": [
    "x[0, 1]"
   ]
  },
  {
   "cell_type": "code",
   "execution_count": null,
   "id": "bdc0e59b",
   "metadata": {},
   "outputs": [],
   "source": [
    "x[:, 0]"
   ]
  },
  {
   "cell_type": "code",
   "execution_count": null,
   "id": "5807bcdf",
   "metadata": {},
   "outputs": [],
   "source": [
    "x[0, :]"
   ]
  },
  {
   "cell_type": "code",
   "execution_count": null,
   "id": "28222084",
   "metadata": {},
   "outputs": [],
   "source": [
    "x[1, :]"
   ]
  },
  {
   "cell_type": "code",
   "execution_count": null,
   "id": "b02d4e4d",
   "metadata": {},
   "outputs": [],
   "source": [
    "x[:, 1]"
   ]
  },
  {
   "cell_type": "code",
   "execution_count": null,
   "id": "1bae3692",
   "metadata": {},
   "outputs": [],
   "source": [
    "x[:, 2]"
   ]
  },
  {
   "cell_type": "code",
   "execution_count": null,
   "id": "598df0b3",
   "metadata": {},
   "outputs": [],
   "source": [
    "x = np.array([[[1, 2, 3], [4, 5, 6]],\n",
    "              [[2, 3, 4], [0, 2, 1]]], \n",
    "             np.uint8)\n",
    "print(x)"
   ]
  },
  {
   "cell_type": "code",
   "execution_count": null,
   "id": "c596bd29",
   "metadata": {},
   "outputs": [],
   "source": [
    "x[1, 0, 0]"
   ]
  },
  {
   "cell_type": "code",
   "execution_count": null,
   "id": "e14129fb",
   "metadata": {},
   "outputs": [],
   "source": [
    "x[1, :, 0]"
   ]
  },
  {
   "cell_type": "code",
   "execution_count": null,
   "id": "b8459423",
   "metadata": {},
   "outputs": [],
   "source": [
    "x[1, :, :]"
   ]
  },
  {
   "cell_type": "markdown",
   "id": "bcc0e2af",
   "metadata": {},
   "source": [
    "# Numpy Ndarray Properties"
   ]
  },
  {
   "cell_type": "code",
   "execution_count": null,
   "id": "d23a7e25",
   "metadata": {},
   "outputs": [],
   "source": [
    "x = np.array([[[1, 2, 3], [4, 5, 6]],\n",
    "              [[2, 3, 4], [0, 2, 1]]], \n",
    "             np.int16)\n",
    "print(x)"
   ]
  },
  {
   "cell_type": "code",
   "execution_count": null,
   "id": "e024b262",
   "metadata": {},
   "outputs": [],
   "source": [
    "x.ndim"
   ]
  },
  {
   "cell_type": "code",
   "execution_count": null,
   "id": "5dd07b76",
   "metadata": {},
   "outputs": [],
   "source": [
    "x.shape"
   ]
  },
  {
   "cell_type": "code",
   "execution_count": null,
   "id": "a703c99a",
   "metadata": {},
   "outputs": [],
   "source": [
    "x.dtype"
   ]
  },
  {
   "cell_type": "code",
   "execution_count": null,
   "id": "c46c84a6",
   "metadata": {},
   "outputs": [],
   "source": [
    "x.size"
   ]
  },
  {
   "cell_type": "code",
   "execution_count": null,
   "id": "5214d29a",
   "metadata": {},
   "outputs": [],
   "source": [
    "x.nbytes"
   ]
  },
  {
   "cell_type": "markdown",
   "id": "7c29d3b2",
   "metadata": {},
   "source": [
    "# NumPy constants"
   ]
  },
  {
   "cell_type": "code",
   "execution_count": null,
   "id": "d756bbd0",
   "metadata": {},
   "outputs": [],
   "source": [
    "np.inf"
   ]
  },
  {
   "cell_type": "code",
   "execution_count": null,
   "id": "25d069c9",
   "metadata": {},
   "outputs": [],
   "source": [
    "np.NAN"
   ]
  },
  {
   "cell_type": "code",
   "execution_count": null,
   "id": "bf77c0c3",
   "metadata": {},
   "outputs": [],
   "source": [
    "np.NINF"
   ]
  },
  {
   "cell_type": "code",
   "execution_count": null,
   "id": "e0acffe7",
   "metadata": {},
   "outputs": [],
   "source": [
    "np.NZERO"
   ]
  },
  {
   "cell_type": "code",
   "execution_count": null,
   "id": "5294e475",
   "metadata": {},
   "outputs": [],
   "source": [
    "np.PZERO"
   ]
  },
  {
   "cell_type": "code",
   "execution_count": null,
   "id": "f8c63df9",
   "metadata": {},
   "outputs": [],
   "source": [
    "np.e"
   ]
  },
  {
   "cell_type": "code",
   "execution_count": null,
   "id": "b52c63d4",
   "metadata": {},
   "outputs": [],
   "source": [
    "np.euler_gamma"
   ]
  },
  {
   "cell_type": "code",
   "execution_count": null,
   "id": "e72147ae",
   "metadata": {},
   "outputs": [],
   "source": [
    "np.pi"
   ]
  },
  {
   "cell_type": "markdown",
   "id": "408023cc",
   "metadata": {},
   "source": [
    "# Ones and Zeros"
   ]
  },
  {
   "cell_type": "code",
   "execution_count": null,
   "id": "456395ba",
   "metadata": {},
   "outputs": [],
   "source": [
    "x = np.empty([3, 3], np.uint8)\n",
    "x"
   ]
  },
  {
   "cell_type": "code",
   "execution_count": null,
   "id": "82ae5fb3",
   "metadata": {},
   "outputs": [],
   "source": [
    "y = np.eye(5, dtype=np.uint8)\n",
    "y"
   ]
  },
  {
   "cell_type": "code",
   "execution_count": null,
   "id": "14ec7aeb",
   "metadata": {},
   "outputs": [],
   "source": [
    "y = np.eye(5, dtype=np.uint8, k=0)\n",
    "y"
   ]
  },
  {
   "cell_type": "code",
   "execution_count": null,
   "id": "6c0dc9e8",
   "metadata": {},
   "outputs": [],
   "source": [
    "y = np.eye(5, dtype=np.uint8, k=1)\n",
    "y"
   ]
  },
  {
   "cell_type": "code",
   "execution_count": null,
   "id": "285a7a52",
   "metadata": {},
   "outputs": [],
   "source": [
    "y = np.eye(5, dtype=np.uint8, k=-1)\n",
    "y"
   ]
  },
  {
   "cell_type": "code",
   "execution_count": null,
   "id": "c35e767c",
   "metadata": {},
   "outputs": [],
   "source": [
    "y = np.identity(5, dtype=np.uint8)\n",
    "y"
   ]
  },
  {
   "cell_type": "code",
   "execution_count": null,
   "id": "57905723",
   "metadata": {},
   "outputs": [],
   "source": [
    "y = np.identity(6, dtype=np.uint8)\n",
    "y"
   ]
  },
  {
   "cell_type": "code",
   "execution_count": null,
   "id": "13161aa8",
   "metadata": {},
   "outputs": [],
   "source": [
    "y = np.ones((2, 5, 5), dtype=np.uint8)\n",
    "y"
   ]
  },
  {
   "cell_type": "code",
   "execution_count": null,
   "id": "76424a49",
   "metadata": {},
   "outputs": [],
   "source": [
    "y = np.zeros((2, 5, 5, 2), \n",
    "             dtype=np.uint8)\n",
    "y"
   ]
  },
  {
   "cell_type": "code",
   "execution_count": null,
   "id": "061b4f5b",
   "metadata": {},
   "outputs": [],
   "source": [
    "x = np.full((3, 3, 3), dtype=np.int16, \n",
    "            fill_value = 10)\n",
    "x"
   ]
  },
  {
   "cell_type": "markdown",
   "id": "d16464ae",
   "metadata": {},
   "source": [
    "# Matrix Creation Routines"
   ]
  },
  {
   "cell_type": "code",
   "execution_count": null,
   "id": "cc095c51",
   "metadata": {},
   "outputs": [],
   "source": [
    "x = np.tri(3, 3, k=0, dtype=np.uint16)\n",
    "x"
   ]
  },
  {
   "cell_type": "code",
   "execution_count": null,
   "id": "17331f43",
   "metadata": {},
   "outputs": [],
   "source": [
    "x = np.tri(3, 3, dtype=np.uint16)\n",
    "x"
   ]
  },
  {
   "cell_type": "code",
   "execution_count": null,
   "id": "c293f03a",
   "metadata": {},
   "outputs": [],
   "source": [
    "x = np.tri(3, 3, dtype=np.uint16, k = -1)\n",
    "x"
   ]
  },
  {
   "cell_type": "code",
   "execution_count": null,
   "id": "f7b8a9c9",
   "metadata": {},
   "outputs": [],
   "source": [
    "x = np.tri(3, 3, dtype=np.uint16, k = 1)\n",
    "x"
   ]
  },
  {
   "cell_type": "code",
   "execution_count": null,
   "id": "9c2f5969",
   "metadata": {},
   "outputs": [],
   "source": [
    "x = np.ones((3, 3), dtype=np.uint16)\n",
    "x"
   ]
  },
  {
   "cell_type": "code",
   "execution_count": null,
   "id": "2c357302",
   "metadata": {},
   "outputs": [],
   "source": [
    "x = np.ones((3, 3), dtype=np.uint16)\n",
    "y = np.tril(x)\n",
    "y"
   ]
  },
  {
   "cell_type": "code",
   "execution_count": null,
   "id": "30d95d16",
   "metadata": {},
   "outputs": [],
   "source": [
    "x = np.ones((5, 5), dtype=np.uint16)\n",
    "y = np.tril(x, k=0)\n",
    "y"
   ]
  },
  {
   "cell_type": "code",
   "execution_count": null,
   "id": "b09be3b7",
   "metadata": {},
   "outputs": [],
   "source": [
    "x = np.ones((5, 5), dtype=np.uint16)\n",
    "y = np.tril(x, k=1)\n",
    "y"
   ]
  },
  {
   "cell_type": "code",
   "execution_count": null,
   "id": "700dba07",
   "metadata": {},
   "outputs": [],
   "source": [
    "x = np.ones((5, 5), dtype=np.uint16)\n",
    "y = np.tril(x, k=-1)\n",
    "y"
   ]
  },
  {
   "cell_type": "code",
   "execution_count": null,
   "id": "5505e38d",
   "metadata": {},
   "outputs": [],
   "source": [
    "x = np.ones((5, 5), dtype=np.uint16)\n",
    "y = np.triu(x)\n",
    "y"
   ]
  },
  {
   "cell_type": "code",
   "execution_count": null,
   "id": "ab7558e9",
   "metadata": {},
   "outputs": [],
   "source": [
    "x = np.ones((5, 5), dtype=np.uint16)\n",
    "y = np.triu(x, k=0)\n",
    "y"
   ]
  },
  {
   "cell_type": "code",
   "execution_count": null,
   "id": "798680ca",
   "metadata": {},
   "outputs": [],
   "source": [
    "x = np.ones((5, 5), dtype=np.uint16)\n",
    "y = np.triu(x, k=1)\n",
    "y"
   ]
  },
  {
   "cell_type": "code",
   "execution_count": null,
   "id": "077572a9",
   "metadata": {},
   "outputs": [],
   "source": [
    "x = np.ones((5, 5), dtype=np.uint16)\n",
    "y = np.triu(x,k = -1)\n",
    "y"
   ]
  },
  {
   "cell_type": "markdown",
   "id": "702de982",
   "metadata": {},
   "source": [
    "# Ndarray Creation and matplotlib"
   ]
  },
  {
   "cell_type": "code",
   "execution_count": null,
   "id": "8d6fb376",
   "metadata": {},
   "outputs": [],
   "source": [
    "import matplotlib.pyplot as plt"
   ]
  },
  {
   "cell_type": "code",
   "execution_count": null,
   "id": "337bbc1f",
   "metadata": {},
   "outputs": [],
   "source": [
    "%matplotlib inline"
   ]
  },
  {
   "cell_type": "code",
   "execution_count": null,
   "id": "d80f28fb",
   "metadata": {},
   "outputs": [],
   "source": [
    "x = np.arange(5)\n",
    "x"
   ]
  },
  {
   "cell_type": "code",
   "execution_count": null,
   "id": "0d7f21c5",
   "metadata": {},
   "outputs": [],
   "source": [
    "y = x\n",
    "y"
   ]
  },
  {
   "cell_type": "code",
   "execution_count": null,
   "id": "f3d32075",
   "metadata": {},
   "outputs": [],
   "source": [
    "plt.plot(x, y)\n",
    "plt.show()"
   ]
  },
  {
   "cell_type": "code",
   "execution_count": null,
   "id": "9911b0b7",
   "metadata": {},
   "outputs": [],
   "source": [
    "%matplotlib qt\n",
    "plt.plot(x, y)\n",
    "plt.show()"
   ]
  },
  {
   "cell_type": "code",
   "execution_count": null,
   "id": "6f35b0fc",
   "metadata": {},
   "outputs": [],
   "source": [
    "%matplotlib inline"
   ]
  },
  {
   "cell_type": "code",
   "execution_count": null,
   "id": "f82b1b14",
   "metadata": {},
   "outputs": [],
   "source": [
    "plt.plot(x, y)\n",
    "plt.plot(x, -y)\n",
    "plt.show()"
   ]
  },
  {
   "cell_type": "code",
   "execution_count": null,
   "id": "c6e3e9a6",
   "metadata": {},
   "outputs": [],
   "source": [
    "plt.plot(x, y, '^--')\n",
    "plt.plot(x, -y, 'o-')\n",
    "plt.show()"
   ]
  },
  {
   "cell_type": "code",
   "execution_count": null,
   "id": "a369ab5c",
   "metadata": {},
   "outputs": [],
   "source": [
    "plt.plot(x, y, '^--')\n",
    "plt.plot(x, -y, 'o-')\n",
    "plt.title(\"y=x and y=-x\")\n",
    "plt.show()"
   ]
  },
  {
   "cell_type": "code",
   "execution_count": null,
   "id": "a7868f87",
   "metadata": {},
   "outputs": [],
   "source": [
    "N = 11\n",
    "x = np.linspace(0, 10, N)\n",
    "print(x)\n",
    "y = x"
   ]
  },
  {
   "cell_type": "code",
   "execution_count": null,
   "id": "2320d219",
   "metadata": {},
   "outputs": [],
   "source": [
    "plt.axis('off')\n",
    "plt.plot(x, y, '^--')\n",
    "plt.show()"
   ]
  },
  {
   "cell_type": "code",
   "execution_count": null,
   "id": "57e401d9",
   "metadata": {},
   "outputs": [],
   "source": [
    "y = np.logspace(0.1, 1, N)\n",
    "print(y)\n",
    "plt.plot(x, y, 'o--')\n",
    "plt.show()"
   ]
  },
  {
   "cell_type": "code",
   "execution_count": null,
   "id": "6c5b60c0",
   "metadata": {},
   "outputs": [],
   "source": [
    "y = np.geomspace(0.1, 1000, N)\n",
    "print(y)\n",
    "plt.plot(x, y, 'o--')\n",
    "plt.show()"
   ]
  },
  {
   "cell_type": "markdown",
   "id": "fe6cfef5",
   "metadata": {},
   "source": [
    "# NumPy and Random Routines"
   ]
  },
  {
   "cell_type": "code",
   "execution_count": null,
   "id": "8f8f8a7c",
   "metadata": {},
   "outputs": [],
   "source": [
    "x = np.random.randint(low=0, high= 9, \n",
    "                      size = 10)\n",
    "x"
   ]
  },
  {
   "cell_type": "code",
   "execution_count": null,
   "id": "fe6ac7f1",
   "metadata": {},
   "outputs": [],
   "source": [
    "x = np.random.randint(low=0, high= 9, \n",
    "                      size = (3, 3))\n",
    "x"
   ]
  },
  {
   "cell_type": "code",
   "execution_count": null,
   "id": "641c6fe0",
   "metadata": {},
   "outputs": [],
   "source": [
    "x = np.random.rand(3, 3)\n",
    "x"
   ]
  },
  {
   "cell_type": "code",
   "execution_count": null,
   "id": "f67db5f9",
   "metadata": {},
   "outputs": [],
   "source": [
    "x = np.random.rand(3, 3, 3)\n",
    "x"
   ]
  },
  {
   "cell_type": "code",
   "execution_count": null,
   "id": "563369ca",
   "metadata": {},
   "outputs": [],
   "source": [
    "x = np.random.rand(2, 2, \n",
    "                   2, 2, 2)\n",
    "x"
   ]
  },
  {
   "cell_type": "markdown",
   "id": "d34f222f",
   "metadata": {},
   "source": [
    "# Logical Operations of NumPy"
   ]
  },
  {
   "cell_type": "code",
   "execution_count": null,
   "id": "47d5f4bb",
   "metadata": {},
   "outputs": [],
   "source": [
    "x = np.array([0, 1, 0, 1], np.uint8)\n",
    "y = np.array([0, 0, 1, 1], np.uint8)\n",
    "\n",
    "print(np.bitwise_and(x, y))\n",
    "print(np.bitwise_or(x, y))\n",
    "print(np.bitwise_xor(x, y))\n",
    "print(np.bitwise_not(x))"
   ]
  },
  {
   "cell_type": "markdown",
   "id": "c05a4051",
   "metadata": {},
   "source": [
    "# Statistical Operations"
   ]
  },
  {
   "cell_type": "code",
   "execution_count": null,
   "id": "a54a37bd",
   "metadata": {},
   "outputs": [],
   "source": [
    "x = np.random.randint(low=0, high= 9, \n",
    "                      size = 10)\n",
    "x"
   ]
  },
  {
   "cell_type": "code",
   "execution_count": null,
   "id": "f11fae8d",
   "metadata": {},
   "outputs": [],
   "source": [
    "np.median(x)"
   ]
  },
  {
   "cell_type": "code",
   "execution_count": null,
   "id": "6959c1b0",
   "metadata": {},
   "outputs": [],
   "source": [
    "np.average(x)"
   ]
  },
  {
   "cell_type": "code",
   "execution_count": null,
   "id": "3075a89e",
   "metadata": {},
   "outputs": [],
   "source": [
    "np.mean(x)"
   ]
  },
  {
   "cell_type": "code",
   "execution_count": null,
   "id": "c26f3fac",
   "metadata": {},
   "outputs": [],
   "source": [
    "np.std(x)"
   ]
  },
  {
   "cell_type": "code",
   "execution_count": null,
   "id": "6c8539f1",
   "metadata": {},
   "outputs": [],
   "source": [
    "np.var(x)"
   ]
  },
  {
   "cell_type": "code",
   "execution_count": null,
   "id": "82442f27",
   "metadata": {},
   "outputs": [],
   "source": [
    "np.histogram(x)"
   ]
  },
  {
   "cell_type": "code",
   "execution_count": null,
   "id": "60fae259",
   "metadata": {},
   "outputs": [],
   "source": [
    "x = np.random.randint(low=0, high= 9, \n",
    "                      size = (3, 3))\n",
    "x"
   ]
  },
  {
   "cell_type": "code",
   "execution_count": null,
   "id": "aeb4860b",
   "metadata": {},
   "outputs": [],
   "source": [
    "np.mean(x)"
   ]
  },
  {
   "cell_type": "markdown",
   "id": "84d0e5b9",
   "metadata": {},
   "source": [
    "# NumPy FFT"
   ]
  },
  {
   "cell_type": "code",
   "execution_count": null,
   "id": "a048d8d3",
   "metadata": {},
   "outputs": [],
   "source": [
    "# 1-D FFT\n",
    "\n",
    "t = np.arange(128)\n",
    "print(t)\n",
    "\n",
    "sp = np.fft.fft(np.sin(t))\n",
    "freq = np.fft.fftfreq(t.shape[-1])"
   ]
  },
  {
   "cell_type": "code",
   "execution_count": null,
   "id": "d5f54252",
   "metadata": {},
   "outputs": [],
   "source": [
    "print(sp, freq)"
   ]
  },
  {
   "cell_type": "code",
   "execution_count": null,
   "id": "eef29b17",
   "metadata": {},
   "outputs": [],
   "source": [
    "plt.subplots_adjust(hspace=0.5)\n",
    "\n",
    "plt.subplot(2, 1, 1)\n",
    "plt.title('Real Part')\n",
    "plt.plot(freq, sp.real)\n",
    "\n",
    "plt.subplot(2, 1, 2)\n",
    "plt.title('Imaginary Part')\n",
    "plt.plot(freq, sp.imag)\n",
    "\n",
    "plt.show()"
   ]
  },
  {
   "cell_type": "code",
   "execution_count": null,
   "id": "21c29ef2",
   "metadata": {},
   "outputs": [],
   "source": [
    "# Inverse 1-D DFT\n",
    "\n",
    "t = np.arange(500)\n",
    "n = np.zeros((500, ), dtype = complex)\n",
    "\n",
    "n[40:80] = np.exp(1j*np.random.uniform(0, 2*np.pi, (40, )))\n",
    "s = np.fft.ifft(n)\n",
    "\n",
    "plt.plot(t, s.real)\n",
    "plt.show()"
   ]
  },
  {
   "cell_type": "code",
   "execution_count": null,
   "id": "9974a9a3",
   "metadata": {},
   "outputs": [],
   "source": [
    "plt.plot(t, s.imag)\n",
    "plt.show()"
   ]
  },
  {
   "cell_type": "code",
   "execution_count": null,
   "id": "67187781",
   "metadata": {},
   "outputs": [],
   "source": [
    "# Advanced FFT\n",
    "## 2D FFT\n",
    "a = np.mgrid[:3, :3]\n",
    "a"
   ]
  },
  {
   "cell_type": "code",
   "execution_count": null,
   "id": "58f64dab",
   "metadata": {},
   "outputs": [],
   "source": [
    "np.fft.fft2(a)"
   ]
  },
  {
   "cell_type": "markdown",
   "id": "fa83297e",
   "metadata": {},
   "source": [
    "# N-D FFT"
   ]
  },
  {
   "cell_type": "code",
   "execution_count": null,
   "id": "98b6b45a",
   "metadata": {},
   "outputs": [],
   "source": [
    "a = np.mgrid[:3, :3, :3][0]\n",
    "a"
   ]
  },
  {
   "cell_type": "code",
   "execution_count": null,
   "id": "94ad3306",
   "metadata": {},
   "outputs": [],
   "source": [
    "np.fft.fftn(a, axes=(1, 2))"
   ]
  },
  {
   "cell_type": "code",
   "execution_count": null,
   "id": "7f9d2120",
   "metadata": {},
   "outputs": [],
   "source": [
    "np.fft.fftn(a, axes=(1, 0))"
   ]
  },
  {
   "cell_type": "code",
   "execution_count": null,
   "id": "76a848cd",
   "metadata": {},
   "outputs": [],
   "source": [
    "np.fft.fftn(a ) #, axes=(1, 0))"
   ]
  },
  {
   "cell_type": "code",
   "execution_count": null,
   "id": "3ba4d4bd",
   "metadata": {},
   "outputs": [],
   "source": [
    "np.fft.fftn(a , axes=(-1, 0))"
   ]
  },
  {
   "cell_type": "code",
   "execution_count": null,
   "id": "965da407",
   "metadata": {},
   "outputs": [],
   "source": [
    "[x, y] = np.meshgrid(2 * np.pi * np.arange(200)/12,\n",
    "                     2 * np.pi * np.arange(200)/34)\n",
    "plt.plot(x, y)\n",
    "plt.show()"
   ]
  },
  {
   "cell_type": "code",
   "execution_count": null,
   "id": "292455ec",
   "metadata": {},
   "outputs": [],
   "source": [
    "n = np.sin(x) + np.cos(y) + np.random.uniform(0, 1, x.shape)\n",
    "plt.imshow(n)\n",
    "plt.show()"
   ]
  },
  {
   "cell_type": "code",
   "execution_count": null,
   "id": "89d28625",
   "metadata": {},
   "outputs": [],
   "source": [
    "plt.imshow(np.fft.fftn(n).real.astype(np.uint8))\n",
    "plt.show()"
   ]
  },
  {
   "cell_type": "markdown",
   "id": "5c21672c",
   "metadata": {},
   "source": [
    "# Inverse FFT"
   ]
  },
  {
   "cell_type": "code",
   "execution_count": null,
   "id": "0439888a",
   "metadata": {},
   "outputs": [],
   "source": [
    "n = np.zeros((200, 200), dtype=complex)\n",
    "n[60:80, 20:40] = np.exp(1j*np.random.uniform(0, 2*np.pi, (20, 20)))\n",
    "\n",
    "plt.imshow(np.fft.ifftn(n).real, cmap='hot')\n",
    "plt.show()"
   ]
  },
  {
   "cell_type": "code",
   "execution_count": null,
   "id": "6f43a354",
   "metadata": {},
   "outputs": [],
   "source": [
    "plt.imshow(np.fft.ifftn(n).real, cmap='cool')\n",
    "plt.show()"
   ]
  },
  {
   "cell_type": "markdown",
   "id": "603535f7",
   "metadata": {},
   "source": [
    "# Linear Algebra"
   ]
  },
  {
   "cell_type": "markdown",
   "id": "c848d122",
   "metadata": {},
   "source": [
    "## Dot Product"
   ]
  },
  {
   "cell_type": "code",
   "execution_count": null,
   "id": "f9c7ac60",
   "metadata": {},
   "outputs": [],
   "source": [
    "np.dot(10, 5)"
   ]
  },
  {
   "cell_type": "code",
   "execution_count": null,
   "id": "f6efd5ac",
   "metadata": {},
   "outputs": [],
   "source": [
    "a = np.array([2, 4], np.int16)\n",
    "b = np.array([5, 6], np.int16)\n",
    "np.dot(a, b)"
   ]
  },
  {
   "cell_type": "code",
   "execution_count": null,
   "id": "048cd7bf",
   "metadata": {},
   "outputs": [],
   "source": [
    "a = np.array([[2, 4], [5, 8]], np.int16)\n",
    "b = np.array([[5, 6], [9, 3]], np.int16)\n",
    "np.dot(a, b)"
   ]
  },
  {
   "cell_type": "code",
   "execution_count": null,
   "id": "c656c28f",
   "metadata": {},
   "outputs": [],
   "source": [
    "a = np.random.rand(10, 5)\n",
    "b = np.random.rand(5, 2)\n",
    "c = np.random.rand(2, 3)\n",
    "d = np.random.rand(3, 4)\n",
    "\n",
    "np.linalg.multi_dot([a, b, c, d])"
   ]
  },
  {
   "cell_type": "markdown",
   "id": "a731b2f1",
   "metadata": {},
   "source": [
    "## Vector Dot Product"
   ]
  },
  {
   "cell_type": "code",
   "execution_count": null,
   "id": "05cf0f7f",
   "metadata": {},
   "outputs": [],
   "source": [
    "a = np.array([2, 4], np.int16)\n",
    "b = np.array([5, 6], np.int16)\n",
    "np.vdot(a, b)"
   ]
  },
  {
   "cell_type": "code",
   "execution_count": null,
   "id": "6e8d8f87",
   "metadata": {},
   "outputs": [],
   "source": [
    "a = np.array([[2, 4], [5, 8]], np.int16)\n",
    "b = np.array([[5, 6], [9, 3]], np.int16)\n",
    "np.vdot(a, b)"
   ]
  },
  {
   "cell_type": "code",
   "execution_count": null,
   "id": "c42f0ee1",
   "metadata": {},
   "outputs": [],
   "source": [
    "a = np.array([1 + 5j, 2 + 3j])\n",
    "b = np.array([3 + 2j, 4 + 7j])\n",
    "np.vdot(a, b)"
   ]
  },
  {
   "cell_type": "code",
   "execution_count": null,
   "id": "a5746694",
   "metadata": {},
   "outputs": [],
   "source": [
    "np.vdot(b, a)"
   ]
  },
  {
   "cell_type": "markdown",
   "id": "cc419eec",
   "metadata": {},
   "source": [
    "## Inner Product"
   ]
  },
  {
   "cell_type": "code",
   "execution_count": null,
   "id": "07a75cf3",
   "metadata": {},
   "outputs": [],
   "source": [
    "a = np.array([1, 2, 3, 4, 5, 6])\n",
    "b = np.array([0, 1, 0, 1, 0, 1])\n",
    "np.inner(a, b)"
   ]
  },
  {
   "cell_type": "code",
   "execution_count": null,
   "id": "f0f0d836",
   "metadata": {},
   "outputs": [],
   "source": [
    "a = np.array([[1, 2, 3], [4, 5, 6]])\n",
    "b = np.array([[0, 1, 0], [1, 0, 1]])\n",
    "np.inner(a, b)"
   ]
  },
  {
   "cell_type": "markdown",
   "id": "ddd425f5",
   "metadata": {},
   "source": [
    "# QR Decomposition"
   ]
  },
  {
   "cell_type": "code",
   "execution_count": null,
   "id": "85040af2",
   "metadata": {},
   "outputs": [],
   "source": [
    "a = np.random.rand(3, 3)\n",
    "a"
   ]
  },
  {
   "cell_type": "code",
   "execution_count": null,
   "id": "634b7a7d",
   "metadata": {},
   "outputs": [],
   "source": [
    "q, r = np.linalg.qr(a)"
   ]
  },
  {
   "cell_type": "code",
   "execution_count": null,
   "id": "2ab73b3b",
   "metadata": {},
   "outputs": [],
   "source": [
    "q"
   ]
  },
  {
   "cell_type": "code",
   "execution_count": null,
   "id": "a4cd6472",
   "metadata": {},
   "outputs": [],
   "source": [
    "r"
   ]
  },
  {
   "cell_type": "code",
   "execution_count": null,
   "id": "216fdd6c",
   "metadata": {},
   "outputs": [],
   "source": [
    "np.dot(q, r)"
   ]
  },
  {
   "cell_type": "markdown",
   "id": "a9ab3c43",
   "metadata": {},
   "source": [
    "## Linear equation solution"
   ]
  },
  {
   "cell_type": "code",
   "execution_count": null,
   "id": "375cbc51",
   "metadata": {},
   "outputs": [],
   "source": [
    "a = np.array([[5, 6], [3, 4]])\n",
    "np.linalg.det(a)"
   ]
  },
  {
   "cell_type": "code",
   "execution_count": null,
   "id": "f52946d6",
   "metadata": {},
   "outputs": [],
   "source": [
    "a = np.array([[2, 1, -3], [4, -2, 1], \n",
    "              [3, 5, -2]], np.int16)\n",
    "b = np.array([-4, 9, 5], np.int16)\n",
    "\n",
    "# ax = b\n",
    "\n",
    "np.linalg.solve(a, b)"
   ]
  },
  {
   "cell_type": "markdown",
   "id": "27dbb380",
   "metadata": {},
   "source": [
    "# Trigonomentric Functions"
   ]
  },
  {
   "cell_type": "code",
   "execution_count": null,
   "id": "11f463d5",
   "metadata": {},
   "outputs": [],
   "source": [
    "low = -np.pi\n",
    "hi = np.pi\n",
    "N = 50\n",
    "\n",
    "x = np.linspace(low, hi, N)\n",
    "y = np.sin(x)\n",
    "\n",
    "plt.plot(x, y)\n",
    "plt.show()"
   ]
  },
  {
   "cell_type": "code",
   "execution_count": null,
   "id": "c591f269",
   "metadata": {},
   "outputs": [],
   "source": [
    "y = np.cos(x)\n",
    "\n",
    "plt.plot(x, y)\n",
    "plt.show()"
   ]
  },
  {
   "cell_type": "code",
   "execution_count": null,
   "id": "af77c8b7",
   "metadata": {},
   "outputs": [],
   "source": [
    "y = np.tan(x)\n",
    "\n",
    "plt.plot(x, y)\n",
    "plt.show()"
   ]
  },
  {
   "cell_type": "code",
   "execution_count": null,
   "id": "7977ade8",
   "metadata": {},
   "outputs": [],
   "source": [
    "plt.plot(x, np.sin(x))\n",
    "plt.plot(x, np.cos(x))\n",
    "plt.show()"
   ]
  },
  {
   "cell_type": "markdown",
   "id": "51f35d59",
   "metadata": {},
   "source": [
    "# Hyperbolic Functions"
   ]
  },
  {
   "cell_type": "code",
   "execution_count": null,
   "id": "5d3d385f",
   "metadata": {},
   "outputs": [],
   "source": [
    "y = np.sinh(x)\n",
    "\n",
    "plt.plot(x, y)\n",
    "plt.show()"
   ]
  },
  {
   "cell_type": "code",
   "execution_count": null,
   "id": "24f2cef5",
   "metadata": {},
   "outputs": [],
   "source": [
    "y = np.cosh(x)\n",
    "\n",
    "plt.plot(x, y)\n",
    "plt.show()"
   ]
  },
  {
   "cell_type": "code",
   "execution_count": null,
   "id": "90238a28",
   "metadata": {},
   "outputs": [],
   "source": [
    "plt.plot(x, np.sinh(x))\n",
    "plt.plot(x, np.cosh(x))\n",
    "plt.show()"
   ]
  },
  {
   "cell_type": "code",
   "execution_count": null,
   "id": "b43b328b",
   "metadata": {},
   "outputs": [],
   "source": [
    "y = np.tanh(x)\n",
    "\n",
    "plt.plot(x, y)\n",
    "plt.show()"
   ]
  },
  {
   "cell_type": "markdown",
   "id": "6d2998e2",
   "metadata": {},
   "source": [
    "## Exponent"
   ]
  },
  {
   "cell_type": "code",
   "execution_count": null,
   "id": "15f179c3",
   "metadata": {},
   "outputs": [],
   "source": [
    "x = np.arange(10)\n",
    "y = x\n",
    "plt.plot(x, y)\n",
    "plt.show()"
   ]
  },
  {
   "cell_type": "code",
   "execution_count": null,
   "id": "90ece925",
   "metadata": {},
   "outputs": [],
   "source": [
    "y = np.exp(x)\n",
    "\n",
    "plt.plot(x, y, 'o-')\n",
    "plt.show()"
   ]
  },
  {
   "cell_type": "code",
   "execution_count": null,
   "id": "cf28c775",
   "metadata": {},
   "outputs": [],
   "source": [
    "# exp minus 1\n",
    "y = np.expm1(x)\n",
    "\n",
    "plt.plot(x, y, 'o-')\n",
    "plt.show()"
   ]
  },
  {
   "cell_type": "code",
   "execution_count": null,
   "id": "fa1eb712",
   "metadata": {},
   "outputs": [],
   "source": [
    "# 2 ^ x / 2 ** x\n",
    "y = np.exp2(x)\n",
    "plt.plot(x, y, 'o-')\n",
    "plt.show()"
   ]
  },
  {
   "cell_type": "markdown",
   "id": "f334a948",
   "metadata": {},
   "source": [
    "## Logarithms"
   ]
  },
  {
   "cell_type": "code",
   "execution_count": null,
   "id": "bd06d9e8",
   "metadata": {},
   "outputs": [],
   "source": [
    "x = np.linspace(1, 10, 10)\n",
    "y = np.log(x)\n",
    "plt.plot(x, y, 'o-')\n",
    "plt.show()"
   ]
  },
  {
   "cell_type": "code",
   "execution_count": null,
   "id": "794f1b9a",
   "metadata": {},
   "outputs": [],
   "source": [
    "y = np.log10(x)\n",
    "plt.plot(x, y, 'o-')\n",
    "plt.show()"
   ]
  },
  {
   "cell_type": "code",
   "execution_count": null,
   "id": "a8499ad9",
   "metadata": {},
   "outputs": [],
   "source": [
    "y = np.log2(x)\n",
    "plt.plot(x, y, 'o-')\n",
    "plt.show()"
   ]
  },
  {
   "cell_type": "markdown",
   "id": "40f57738",
   "metadata": {},
   "source": [
    "## Convolution"
   ]
  },
  {
   "cell_type": "code",
   "execution_count": null,
   "id": "15b25d90",
   "metadata": {},
   "outputs": [],
   "source": [
    "a = np.array([1, 2, 3])\n",
    "b = np.array([4, 5, 6])\n",
    "np.convolve(a, b)"
   ]
  },
  {
   "cell_type": "code",
   "execution_count": null,
   "id": "c02496b4",
   "metadata": {},
   "outputs": [],
   "source": [
    "np.convolve(a, 4)"
   ]
  },
  {
   "cell_type": "code",
   "execution_count": null,
   "id": "ad0f30d2",
   "metadata": {},
   "outputs": [],
   "source": [
    "np.convolve(4, 4)"
   ]
  },
  {
   "cell_type": "markdown",
   "id": "0b154f94",
   "metadata": {},
   "source": [
    "# NumPy read and write files"
   ]
  },
  {
   "cell_type": "code",
   "execution_count": null,
   "id": "761139ca",
   "metadata": {},
   "outputs": [],
   "source": [
    "x = np.arange(100)\n",
    "x"
   ]
  },
  {
   "cell_type": "code",
   "execution_count": null,
   "id": "9d65cf9c",
   "metadata": {},
   "outputs": [],
   "source": [
    "np.save('test.npy', x)"
   ]
  },
  {
   "cell_type": "code",
   "execution_count": null,
   "id": "723e0d3d",
   "metadata": {},
   "outputs": [],
   "source": [
    "data = np.load('test.npy')\n",
    "print(data)"
   ]
  },
  {
   "cell_type": "markdown",
   "id": "1ae582fb",
   "metadata": {},
   "source": [
    "# Read data from CSV File"
   ]
  },
  {
   "cell_type": "code",
   "execution_count": null,
   "id": "c7cbb7de",
   "metadata": {},
   "outputs": [],
   "source": [
    "data = np.loadtxt('data.csv', delimiter=',')\n",
    "print(data)"
   ]
  },
  {
   "cell_type": "code",
   "execution_count": null,
   "id": "a94117eb",
   "metadata": {},
   "outputs": [],
   "source": [
    "data = np.loadtxt('data.csv', delimiter=',',\n",
    "                 skiprows=3, usecols=[1, 3])\n",
    "print(data)"
   ]
  },
  {
   "cell_type": "markdown",
   "id": "ef823d4c",
   "metadata": {},
   "source": [
    "# Useful NumPy Operations"
   ]
  },
  {
   "cell_type": "markdown",
   "id": "a9f7ad81",
   "metadata": {},
   "source": [
    "## Set Operations"
   ]
  },
  {
   "cell_type": "code",
   "execution_count": null,
   "id": "9ae16639",
   "metadata": {},
   "outputs": [],
   "source": [
    "data = np.array([1, 2, 3, 3, 2, 1, 4, 5])\n",
    "data"
   ]
  },
  {
   "cell_type": "code",
   "execution_count": null,
   "id": "bedff24f",
   "metadata": {},
   "outputs": [],
   "source": [
    "np.unique(data)"
   ]
  },
  {
   "cell_type": "code",
   "execution_count": null,
   "id": "8d76191c",
   "metadata": {},
   "outputs": [],
   "source": [
    "data = np.array([[1, 2, 3],\n",
    "                [3, 2, 1],\n",
    "                [4, 5, 3]])\n",
    "np.unique(data)"
   ]
  },
  {
   "cell_type": "code",
   "execution_count": null,
   "id": "89709d36",
   "metadata": {},
   "outputs": [],
   "source": [
    "data = np.array([1, 2, 3, 4, 5])\n",
    "a = np.array([1, 2])\n",
    "np.in1d(data, a)"
   ]
  },
  {
   "cell_type": "code",
   "execution_count": null,
   "id": "7d1863c5",
   "metadata": {},
   "outputs": [],
   "source": [
    "data1 = np.array([0, 1, 1, 3])\n",
    "data2 = np.array([1, 2, 2, 3])\n",
    "np.intersect1d(data1, data2)"
   ]
  },
  {
   "cell_type": "code",
   "execution_count": null,
   "id": "0d1f113b",
   "metadata": {},
   "outputs": [],
   "source": [
    "# Minus operation = difference\n",
    "np.setdiff1d(data1, data2)"
   ]
  },
  {
   "cell_type": "code",
   "execution_count": null,
   "id": "787fa59f",
   "metadata": {},
   "outputs": [],
   "source": [
    "np.setdiff1d(data2, data1)"
   ]
  },
  {
   "cell_type": "code",
   "execution_count": null,
   "id": "c4242e4f",
   "metadata": {},
   "outputs": [],
   "source": [
    "np.setxor1d(data1, data2)"
   ]
  },
  {
   "cell_type": "code",
   "execution_count": null,
   "id": "c82c6377",
   "metadata": {},
   "outputs": [],
   "source": [
    "np.setxor1d(data2, data1)"
   ]
  },
  {
   "cell_type": "code",
   "execution_count": null,
   "id": "e78779c0",
   "metadata": {},
   "outputs": [],
   "source": [
    "np.union1d(data2, data1)"
   ]
  },
  {
   "cell_type": "code",
   "execution_count": null,
   "id": "03fae2ab",
   "metadata": {},
   "outputs": [],
   "source": [
    "np.union1d(data1, data2)"
   ]
  },
  {
   "cell_type": "markdown",
   "id": "391d84b2",
   "metadata": {},
   "source": [
    "## Sorting"
   ]
  },
  {
   "cell_type": "code",
   "execution_count": null,
   "id": "b541b2dc",
   "metadata": {},
   "outputs": [],
   "source": [
    "data = np.array([[1, 2, 3, 4],\n",
    "                [3, 1, 2, 0]])\n",
    "np.sort(data)"
   ]
  },
  {
   "cell_type": "code",
   "execution_count": null,
   "id": "e8739fa6",
   "metadata": {},
   "outputs": [],
   "source": [
    "data = np.array([[1, 2, 3, 4],\n",
    "                [3, 1, 2, 0]])\n",
    "np.sort(data, axis = 0)"
   ]
  },
  {
   "cell_type": "code",
   "execution_count": null,
   "id": "0c1ce8a6",
   "metadata": {},
   "outputs": [],
   "source": [
    "data = np.array([[1, 2, 3, 4],\n",
    "                [3, 1, 2, 0]])\n",
    "np.sort(data, axis = 1)"
   ]
  },
  {
   "cell_type": "code",
   "execution_count": null,
   "id": "51f5555a",
   "metadata": {},
   "outputs": [],
   "source": [
    "data = np.array([[1, 2, 3, 4],\n",
    "                [3, 1, 2, 0]])\n",
    "np.sort(data, axis = -1)"
   ]
  },
  {
   "cell_type": "markdown",
   "id": "d7b3d4b8",
   "metadata": {},
   "source": [
    "## Count Non Zero elements"
   ]
  },
  {
   "cell_type": "code",
   "execution_count": null,
   "id": "d67d676f",
   "metadata": {},
   "outputs": [],
   "source": [
    "np.count_nonzero(data)"
   ]
  },
  {
   "cell_type": "code",
   "execution_count": null,
   "id": "36f225e2",
   "metadata": {},
   "outputs": [],
   "source": [
    "np.count_nonzero(data, axis=0)"
   ]
  },
  {
   "cell_type": "code",
   "execution_count": null,
   "id": "19eb8b7d",
   "metadata": {},
   "outputs": [],
   "source": [
    "np.count_nonzero(data, axis = 1)"
   ]
  },
  {
   "cell_type": "code",
   "execution_count": null,
   "id": "c28485d5",
   "metadata": {},
   "outputs": [],
   "source": [
    "np.count_nonzero(data, axis = -1)"
   ]
  },
  {
   "cell_type": "markdown",
   "id": "d4d0577b",
   "metadata": {},
   "source": [
    "## More creation routines"
   ]
  },
  {
   "cell_type": "code",
   "execution_count": null,
   "id": "dccc1fd8",
   "metadata": {},
   "outputs": [],
   "source": [
    "x = np.repeat(1.5, 4)\n",
    "x"
   ]
  },
  {
   "cell_type": "code",
   "execution_count": null,
   "id": "086712fc",
   "metadata": {},
   "outputs": [],
   "source": [
    "x = np.repeat([2, 3], 4)\n",
    "x"
   ]
  },
  {
   "cell_type": "code",
   "execution_count": null,
   "id": "9ed11fcf",
   "metadata": {},
   "outputs": [],
   "source": [
    "x = np.repeat([[2, 3], [3, 4]], 4)\n",
    "x"
   ]
  },
  {
   "cell_type": "code",
   "execution_count": null,
   "id": "0ce34f97",
   "metadata": {},
   "outputs": [],
   "source": [
    "x = np.array([[1, 2],[3, 4]])\n",
    "y = np.repeat(x, 2)\n",
    "y"
   ]
  },
  {
   "cell_type": "code",
   "execution_count": null,
   "id": "066d7114",
   "metadata": {},
   "outputs": [],
   "source": [
    "y = np.repeat(x, 2, axis = 0)\n",
    "y"
   ]
  },
  {
   "cell_type": "code",
   "execution_count": null,
   "id": "ef04d79c",
   "metadata": {},
   "outputs": [],
   "source": [
    "y = np.repeat(x, 2, axis = 1)\n",
    "y"
   ]
  },
  {
   "cell_type": "code",
   "execution_count": null,
   "id": "e9c28b09",
   "metadata": {},
   "outputs": [],
   "source": [
    "y = np.repeat(x, 2, axis = -1)\n",
    "y"
   ]
  },
  {
   "cell_type": "code",
   "execution_count": null,
   "id": "b7d52c52",
   "metadata": {},
   "outputs": [],
   "source": [
    "y = np.tile(x, (3, 3))\n",
    "y"
   ]
  },
  {
   "cell_type": "code",
   "execution_count": null,
   "id": "95289114",
   "metadata": {},
   "outputs": [],
   "source": [
    "x = np.array([2.5, 'a string', [2, 4],\n",
    "             {'a': 0, 'b':1}, np.array([2, 3])], \n",
    "             dtype=object)\n",
    "x"
   ]
  },
  {
   "cell_type": "code",
   "execution_count": null,
   "id": "9ac5e17d",
   "metadata": {},
   "outputs": [],
   "source": [
    "[type(item) for item in x]"
   ]
  },
  {
   "cell_type": "code",
   "execution_count": null,
   "id": "42a53ba4",
   "metadata": {},
   "outputs": [],
   "source": [
    "x = np.empty((3, 3), dtype=object)\n",
    "x"
   ]
  },
  {
   "cell_type": "markdown",
   "id": "9b8cd763",
   "metadata": {},
   "source": [
    "# Testing in NumPy"
   ]
  },
  {
   "cell_type": "code",
   "execution_count": null,
   "id": "83d6bdb4",
   "metadata": {},
   "outputs": [],
   "source": [
    "import numpy.testing as npt"
   ]
  },
  {
   "cell_type": "code",
   "execution_count": null,
   "id": "a92e35b7",
   "metadata": {},
   "outputs": [],
   "source": [
    "npt.assert_almost_equal(2.3333333333333,\n",
    "                       2.3333334)"
   ]
  },
  {
   "cell_type": "code",
   "execution_count": null,
   "id": "61b4e11c",
   "metadata": {},
   "outputs": [],
   "source": [
    "npt.assert_almost_equal(2.3333333333333,\n",
    "                       3.3333334)"
   ]
  },
  {
   "cell_type": "code",
   "execution_count": null,
   "id": "aebf5654",
   "metadata": {},
   "outputs": [],
   "source": [
    "npt.assert_almost_equal(2.3333333333333,\n",
    "                       2.3333334,\n",
    "                       decimal=9)"
   ]
  },
  {
   "cell_type": "code",
   "execution_count": null,
   "id": "804e0b01",
   "metadata": {},
   "outputs": [],
   "source": [
    "npt.assert_almost_equal(2.3333333333333,\n",
    "                       2.3333334,\n",
    "                       decimal=8)"
   ]
  },
  {
   "cell_type": "code",
   "execution_count": null,
   "id": "3ac85a6b",
   "metadata": {},
   "outputs": [],
   "source": [
    "npt.assert_almost_equal([1.0, 2.3333333333333],\n",
    "                       [1.0, 2.3333334],\n",
    "                       decimal=9)"
   ]
  },
  {
   "cell_type": "code",
   "execution_count": null,
   "id": "65cd3a14",
   "metadata": {},
   "outputs": [],
   "source": [
    "npt.assert_almost_equal(0.12345677777777e-20,\n",
    "                       0.1234567e-20,\n",
    "                       decimal=8)"
   ]
  },
  {
   "cell_type": "code",
   "execution_count": null,
   "id": "ff59efb0",
   "metadata": {},
   "outputs": [],
   "source": [
    "npt.assert_almost_equal(0.12345670e-20,\n",
    "                       0.12345672e-20,\n",
    "                       decimal=8)"
   ]
  },
  {
   "cell_type": "code",
   "execution_count": null,
   "id": "8c2aa742",
   "metadata": {},
   "outputs": [],
   "source": [
    "npt.assert_almost_equal(0.12345670e-20,\n",
    "                       0.12345671e-20,\n",
    "                       decimal=8)"
   ]
  },
  {
   "cell_type": "code",
   "execution_count": null,
   "id": "691a5ef4",
   "metadata": {},
   "outputs": [],
   "source": [
    "npt.assert_equal([4, 5], [4, 6])"
   ]
  },
  {
   "cell_type": "code",
   "execution_count": null,
   "id": "8ac58176",
   "metadata": {},
   "outputs": [],
   "source": [
    "npt.assert_string_equal('abc', 'abc')"
   ]
  },
  {
   "cell_type": "code",
   "execution_count": null,
   "id": "ffcca277",
   "metadata": {},
   "outputs": [],
   "source": [
    "npt.assert_string_equal('abc', 'abcd')"
   ]
  },
  {
   "cell_type": "markdown",
   "id": "b35b2c40",
   "metadata": {},
   "source": [
    "# Ndarray Manipulation Routines"
   ]
  },
  {
   "cell_type": "code",
   "execution_count": null,
   "id": "e15995bd",
   "metadata": {},
   "outputs": [],
   "source": [
    "x = np.arange(6)\n",
    "x"
   ]
  },
  {
   "cell_type": "code",
   "execution_count": null,
   "id": "e2aafde7",
   "metadata": {},
   "outputs": [],
   "source": [
    "y = x.reshape((3, 2))\n",
    "y"
   ]
  },
  {
   "cell_type": "code",
   "execution_count": null,
   "id": "f21ab561",
   "metadata": {},
   "outputs": [],
   "source": [
    "x = np.array([[0, 1, 2], [3, 4, 5]], dtype=np.uint8)\n",
    "x"
   ]
  },
  {
   "cell_type": "code",
   "execution_count": null,
   "id": "ebbf20d4",
   "metadata": {},
   "outputs": [],
   "source": [
    "y = np.reshape(x, 6)\n",
    "y"
   ]
  },
  {
   "cell_type": "code",
   "execution_count": null,
   "id": "5b9bc918",
   "metadata": {},
   "outputs": [],
   "source": [
    "y = np.ravel(x)\n",
    "y"
   ]
  },
  {
   "cell_type": "code",
   "execution_count": null,
   "id": "f06fcfaf",
   "metadata": {},
   "outputs": [],
   "source": [
    "print(x)"
   ]
  },
  {
   "cell_type": "code",
   "execution_count": null,
   "id": "5e6a8c4a",
   "metadata": {},
   "outputs": [],
   "source": [
    "y = x.flatten()\n",
    "y"
   ]
  },
  {
   "cell_type": "code",
   "execution_count": null,
   "id": "1f6c940f",
   "metadata": {},
   "outputs": [],
   "source": [
    "y = x.flatten('C')\n",
    "y"
   ]
  },
  {
   "cell_type": "code",
   "execution_count": null,
   "id": "909bcab7",
   "metadata": {},
   "outputs": [],
   "source": [
    "y = x.flatten('F')\n",
    "y"
   ]
  },
  {
   "cell_type": "markdown",
   "id": "521814cc",
   "metadata": {},
   "source": [
    "## Manipulation routines"
   ]
  },
  {
   "cell_type": "code",
   "execution_count": null,
   "id": "bbb3b96e",
   "metadata": {},
   "outputs": [],
   "source": [
    "x = np.array([1, 2, 3], dtype = np.uint8)\n",
    "y = np.array([4, 5, 6], dtype = np.uint8)\n",
    "print(x, y)"
   ]
  },
  {
   "cell_type": "code",
   "execution_count": null,
   "id": "78537f8d",
   "metadata": {},
   "outputs": [],
   "source": [
    "z = np.stack((x, y))\n",
    "z"
   ]
  },
  {
   "cell_type": "code",
   "execution_count": null,
   "id": "f3a69471",
   "metadata": {},
   "outputs": [],
   "source": [
    "z = np.stack((x, y), axis = 0)\n",
    "z"
   ]
  },
  {
   "cell_type": "code",
   "execution_count": null,
   "id": "7fe8c06a",
   "metadata": {},
   "outputs": [],
   "source": [
    "z = np.stack((x, y), axis = 1)\n",
    "z"
   ]
  },
  {
   "cell_type": "code",
   "execution_count": null,
   "id": "43f90b57",
   "metadata": {},
   "outputs": [],
   "source": [
    "z = np.stack((x, y), axis = -1)\n",
    "z"
   ]
  },
  {
   "cell_type": "code",
   "execution_count": null,
   "id": "c4fbd0ed",
   "metadata": {},
   "outputs": [],
   "source": [
    "z = np.dstack((x, y))\n",
    "z"
   ]
  },
  {
   "cell_type": "code",
   "execution_count": null,
   "id": "33f6e94e",
   "metadata": {},
   "outputs": [],
   "source": [
    "z = np.hstack((x, y))\n",
    "z"
   ]
  },
  {
   "cell_type": "code",
   "execution_count": null,
   "id": "df2fca78",
   "metadata": {},
   "outputs": [],
   "source": [
    "z = np.vstack((x, y))\n",
    "z"
   ]
  },
  {
   "cell_type": "code",
   "execution_count": null,
   "id": "cb5a4d05",
   "metadata": {},
   "outputs": [],
   "source": [
    "x = np.arange(9)\n",
    "x"
   ]
  },
  {
   "cell_type": "code",
   "execution_count": null,
   "id": "84c9b3b3",
   "metadata": {},
   "outputs": [],
   "source": [
    "a, b, c = np.split(x, 3)\n",
    "print( a, b , c)"
   ]
  },
  {
   "cell_type": "code",
   "execution_count": null,
   "id": "cc4f5a3d",
   "metadata": {},
   "outputs": [],
   "source": [
    "x = np.random.rand(4, 4, 4)\n",
    "x"
   ]
  },
  {
   "cell_type": "code",
   "execution_count": null,
   "id": "427b1da2",
   "metadata": {},
   "outputs": [],
   "source": [
    "y, z = np.split(x, 2)\n",
    "print(y, z)"
   ]
  },
  {
   "cell_type": "code",
   "execution_count": null,
   "id": "da1a31de",
   "metadata": {},
   "outputs": [],
   "source": [
    "y, z = np.dsplit(x, 2)\n",
    "print(y, z)"
   ]
  },
  {
   "cell_type": "code",
   "execution_count": null,
   "id": "c111ad26",
   "metadata": {},
   "outputs": [],
   "source": [
    "y, z = np.hsplit(x, 2)\n",
    "print(y, z)"
   ]
  },
  {
   "cell_type": "code",
   "execution_count": null,
   "id": "d6249cd3",
   "metadata": {},
   "outputs": [],
   "source": [
    "y, z = np.vsplit(x, 2)\n",
    "print(y, z)"
   ]
  },
  {
   "cell_type": "code",
   "execution_count": null,
   "id": "86e2dffb",
   "metadata": {},
   "outputs": [],
   "source": [
    "x = np.arange(16).reshape(4, 4)\n",
    "x"
   ]
  },
  {
   "cell_type": "code",
   "execution_count": null,
   "id": "28453562",
   "metadata": {},
   "outputs": [],
   "source": [
    "y = np.flip(x, axis = -1)\n",
    "y"
   ]
  },
  {
   "cell_type": "code",
   "execution_count": null,
   "id": "df9e9956",
   "metadata": {},
   "outputs": [],
   "source": [
    "y = np.flip(x, axis = 1)\n",
    "y"
   ]
  },
  {
   "cell_type": "code",
   "execution_count": null,
   "id": "b73b6cff",
   "metadata": {},
   "outputs": [],
   "source": [
    "y = np.flip(x, axis = 0)\n",
    "y"
   ]
  },
  {
   "cell_type": "code",
   "execution_count": null,
   "id": "26f94119",
   "metadata": {},
   "outputs": [],
   "source": [
    "y = np.fliplr(x)\n",
    "y"
   ]
  },
  {
   "cell_type": "code",
   "execution_count": null,
   "id": "baeed130",
   "metadata": {},
   "outputs": [],
   "source": [
    "y = np.flipud(x)\n",
    "y"
   ]
  },
  {
   "cell_type": "code",
   "execution_count": null,
   "id": "36fccfd8",
   "metadata": {},
   "outputs": [],
   "source": [
    "y = np.roll(x, 0)\n",
    "y"
   ]
  },
  {
   "cell_type": "code",
   "execution_count": null,
   "id": "0624dd97",
   "metadata": {},
   "outputs": [],
   "source": [
    "y = np.roll(x, 1)\n",
    "y"
   ]
  },
  {
   "cell_type": "code",
   "execution_count": null,
   "id": "d8e6cf26",
   "metadata": {},
   "outputs": [],
   "source": [
    "y = np.roll(x, 2)\n",
    "y"
   ]
  },
  {
   "cell_type": "code",
   "execution_count": null,
   "id": "3ce97507",
   "metadata": {},
   "outputs": [],
   "source": [
    "y = np.roll(x, 4)\n",
    "y"
   ]
  },
  {
   "cell_type": "code",
   "execution_count": null,
   "id": "0cf99008",
   "metadata": {},
   "outputs": [],
   "source": [
    "y = np.roll(x, 8)\n",
    "y"
   ]
  },
  {
   "cell_type": "code",
   "execution_count": null,
   "id": "af1553b2",
   "metadata": {},
   "outputs": [],
   "source": [
    "y = np.rot90(x)\n",
    "print(x)\n",
    "print(y)"
   ]
  },
  {
   "cell_type": "code",
   "execution_count": null,
   "id": "5e121fd0",
   "metadata": {},
   "outputs": [],
   "source": []
  }
 ],
 "metadata": {
  "kernelspec": {
   "display_name": "Python 3 (ipykernel)",
   "language": "python",
   "name": "python3"
  },
  "language_info": {
   "codemirror_mode": {
    "name": "ipython",
    "version": 3
   },
   "file_extension": ".py",
   "mimetype": "text/x-python",
   "name": "python",
   "nbconvert_exporter": "python",
   "pygments_lexer": "ipython3",
   "version": "3.10.5"
  }
 },
 "nbformat": 4,
 "nbformat_minor": 5
}
